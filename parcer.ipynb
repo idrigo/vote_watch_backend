{
 "cells": [
  {
   "cell_type": "code",
   "execution_count": 114,
   "metadata": {},
   "outputs": [],
   "source": [
    "import requests\n",
    "from bs4 import BeautifulSoup, Comment\n",
    "from selenium import webdriver\n",
    "from selenium.webdriver.common.by import By\n",
    "from selenium.webdriver.support.ui import WebDriverWait\n",
    "from selenium.webdriver.support import expected_conditions as EC\n",
    "from selenium.webdriver.support.expected_conditions import (\n",
    "    presence_of_element_located)\n",
    "import re\n",
    "import time\n",
    "import lxml\n",
    "import pandas as pd\n",
    "import datetime"
   ]
  },
  {
   "cell_type": "code",
   "execution_count": 124,
   "metadata": {},
   "outputs": [],
   "source": [
    "browser = webdriver.Chrome(\"./chromedriver\")"
   ]
  },
  {
   "cell_type": "code",
   "execution_count": 125,
   "metadata": {},
   "outputs": [],
   "source": [
    "browser.get('http://vote.educom.ru/')"
   ]
  },
  {
   "cell_type": "code",
   "execution_count": 126,
   "metadata": {},
   "outputs": [],
   "source": [
    "buttons = browser.find_elements_by_xpath(\"//*[contains(text(), '↓')]\")"
   ]
  },
  {
   "cell_type": "code",
   "execution_count": 127,
   "metadata": {},
   "outputs": [
    {
     "data": {
      "text/html": [
       "<div>\n",
       "<style scoped>\n",
       "    .dataframe tbody tr th:only-of-type {\n",
       "        vertical-align: middle;\n",
       "    }\n",
       "\n",
       "    .dataframe tbody tr th {\n",
       "        vertical-align: top;\n",
       "    }\n",
       "\n",
       "    .dataframe thead th {\n",
       "        text-align: right;\n",
       "    }\n",
       "</style>\n",
       "<table border=\"1\" class=\"dataframe\">\n",
       "  <thead>\n",
       "    <tr style=\"text-align: right;\">\n",
       "      <th></th>\n",
       "      <th>time</th>\n",
       "      <th>Алексейчева Елена Юрьевна</th>\n",
       "      <th>Бадма Николаевич Башанкаев</th>\n",
       "      <th>Байгильдина Эмилия Ирековна</th>\n",
       "      <th>Балыхин Михаил Григорьевич</th>\n",
       "      <th>Белгородский Валерий Савельевич</th>\n",
       "      <th>Бычкова Екатерина Юрьевна</th>\n",
       "      <th>Винокуров Михаил Евгеньевич</th>\n",
       "      <th>Воропаева Алла Викторовна</th>\n",
       "      <th>Галузина Ольга Алексеевна</th>\n",
       "      <th>...</th>\n",
       "      <th>Османов Исмаил Магомедович</th>\n",
       "      <th>Полякова Ольга Станиславовна</th>\n",
       "      <th>Понявин Артемий Владимирович</th>\n",
       "      <th>Рогов Илья Евгеньевич</th>\n",
       "      <th>Рудаков Владимир Николаевич</th>\n",
       "      <th>Сац Роксана Николаевна</th>\n",
       "      <th>Сивко Вячеслав Владимирович</th>\n",
       "      <th>Чернышев Руслан Михайлович</th>\n",
       "      <th>Чернышова Людмила Ивановна</th>\n",
       "      <th>Шафран Анна Борисовна</th>\n",
       "    </tr>\n",
       "  </thead>\n",
       "  <tbody>\n",
       "    <tr>\n",
       "      <th>0</th>\n",
       "      <td>04-25-2020, 14:46:45</td>\n",
       "      <td>153</td>\n",
       "      <td>704</td>\n",
       "      <td>295</td>\n",
       "      <td>502</td>\n",
       "      <td>1300</td>\n",
       "      <td>482</td>\n",
       "      <td>1</td>\n",
       "      <td>212</td>\n",
       "      <td>441</td>\n",
       "      <td>...</td>\n",
       "      <td>1002</td>\n",
       "      <td>98</td>\n",
       "      <td>539</td>\n",
       "      <td>3</td>\n",
       "      <td>89</td>\n",
       "      <td>729</td>\n",
       "      <td>448</td>\n",
       "      <td>275</td>\n",
       "      <td>337</td>\n",
       "      <td>570</td>\n",
       "    </tr>\n",
       "  </tbody>\n",
       "</table>\n",
       "<p>1 rows × 35 columns</p>\n",
       "</div>"
      ],
      "text/plain": [
       "                   time Алексейчева Елена Юрьевна Бадма Николаевич Башанкаев  \\\n",
       "0  04-25-2020, 14:46:45                       153                        704   \n",
       "\n",
       "  Байгильдина Эмилия Ирековна Балыхин Михаил Григорьевич  \\\n",
       "0                         295                        502   \n",
       "\n",
       "  Белгородский Валерий Савельевич Бычкова Екатерина Юрьевна  \\\n",
       "0                            1300                       482   \n",
       "\n",
       "  Винокуров Михаил Евгеньевич Воропаева Алла Викторовна   \\\n",
       "0                           1                        212   \n",
       "\n",
       "  Галузина Ольга Алексеевна  ... Османов Исмаил Магомедович  \\\n",
       "0                       441  ...                       1002   \n",
       "\n",
       "  Полякова Ольга Станиславовна Понявин Артемий Владимирович  \\\n",
       "0                           98                          539   \n",
       "\n",
       "  Рогов Илья Евгеньевич Рудаков Владимир Николаевич Сац Роксана Николаевна  \\\n",
       "0                     3                          89                    729   \n",
       "\n",
       "  Сивко Вячеслав Владимирович Чернышев Руслан Михайлович  \\\n",
       "0                         448                        275   \n",
       "\n",
       "  Чернышова Людмила Ивановна Шафран Анна Борисовна  \n",
       "0                        337                   570  \n",
       "\n",
       "[1 rows x 35 columns]"
      ]
     },
     "execution_count": 127,
     "metadata": {},
     "output_type": "execute_result"
    }
   ],
   "source": [
    "df = pd.DataFrame()\n",
    "data = {}\n",
    "for i, button in enumerate(buttons):\n",
    "    button.click() # click on the i-th element in the list\n",
    "    time.sleep(1) # wait until list will be updated\n",
    "    soup = BeautifulSoup(browser.page_source,features=\"lxml\")\n",
    "    comments = soup.findAll(text=lambda text:isinstance(text, Comment) and not \"/\" in text)\n",
    "    voices = comments[i+1].next_element\n",
    "    name = comments[i+1].find_parent().find_parent().findNext().findNext().findNext().findNext().find('span').contents[0]\n",
    "    data[name]=voices\n",
    "    data['time']=datetime.datetime.now().strftime(\"%m-%d-%Y, %H:%M:%S\")\n",
    "df = tdf.append(data, ignore_index=True)"
   ]
  },
  {
   "cell_type": "code",
   "execution_count": null,
   "metadata": {},
   "outputs": [],
   "source": [
    "df"
   ]
  },
  {
   "cell_type": "code",
   "execution_count": 119,
   "metadata": {},
   "outputs": [
    {
     "data": {
      "text/plain": [
       "'04-25-2020, 14:43:01'"
      ]
     },
     "execution_count": 119,
     "metadata": {},
     "output_type": "execute_result"
    }
   ],
   "source": [
    "datetime.datetime.now().strftime(\"%m-%d-%Y, %H:%M:%S\")"
   ]
  },
  {
   "cell_type": "code",
   "execution_count": null,
   "metadata": {},
   "outputs": [],
   "source": []
  }
 ],
 "metadata": {
  "kernelspec": {
   "display_name": "Python 3",
   "language": "python",
   "name": "python3"
  },
  "language_info": {
   "codemirror_mode": {
    "name": "ipython",
    "version": 3
   },
   "file_extension": ".py",
   "mimetype": "text/x-python",
   "name": "python",
   "nbconvert_exporter": "python",
   "pygments_lexer": "ipython3",
   "version": "3.6.9"
  }
 },
 "nbformat": 4,
 "nbformat_minor": 4
}
